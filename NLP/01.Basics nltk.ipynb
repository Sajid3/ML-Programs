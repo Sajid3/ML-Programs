{
 "cells": [
  {
   "cell_type": "code",
   "execution_count": 1,
   "metadata": {},
   "outputs": [],
   "source": [
    "import nltk # https://www.nltk.org/install.html\n",
    "import numpy # https://www.scipy.org/install.html\n",
    "import matplotlib.pyplot # https://matplotlib.org/downloads.html\n",
    "import tweepy # https://github.com/tweepy/tweepy\n",
    "import TwitterSearch # https://github.com/ckoepp/TwitterSearch\n",
    "import unidecode # https://pypi.python.org/pypi/Unidecode\n",
    "import langdetect # https://pypi.python.org/pypi/langdetect\n",
    "import langid # https://github.com/saffsd/langid.py\n",
    "import gensim \n",
    "\n",
    "from nltk.tokenize import word_tokenize\n",
    "from nltk.text import Text\n",
    "#nltk.download()"
   ]
  },
  {
   "cell_type": "code",
   "execution_count": 6,
   "metadata": {},
   "outputs": [
    {
     "name": "stdout",
     "output_type": "stream",
     "text": [
      "['guy', 'ready', ',', 'brother', ',']\n"
     ]
    },
    {
     "data": {
      "text/plain": [
       "<Text: guy ready , brother , ready , given...>"
      ]
     },
     "execution_count": 6,
     "metadata": {},
     "output_type": "execute_result"
    }
   ],
   "source": [
    "my_string = \"Guy ready , brother , ready , Given a sentence, determine the part of speech (POS) POS POS for each word.Many words, especially common ones, can serve as multiple parts of speech. For example,book can be a noun (the book on the table) or verb (to book a flight);set can be a noun, verb or adjective; and out can be any of at least five different parts of speech.Some languages have more such ambiguity than others.[dubious – discuss] Languages with little inflectional morphology, such as English, are particularly prone to such ambiguity.Chinese is prone to such ambiguity because it is a tonal language during verbalization.Such inflection is not readily conveyed via the entities employed within the orthography to convey intended meaning.\"\n",
    "tokens = word_tokenize(my_string)\n",
    "tokens = [word.lower() for word in tokens]\n",
    "print(tokens[:5])\n",
    "tkn = Text(tokens)\n",
    "tkn"
   ]
  },
  {
   "cell_type": "markdown",
   "metadata": {},
   "source": [
    "# Opening file"
   ]
  },
  {
   "cell_type": "code",
   "execution_count": null,
   "metadata": {},
   "outputs": [],
   "source": [
    "from nltk.corpus import PlaintextCorpusReader\n",
    "\n",
    "# RegEx or list of file names\n",
    "files = \".*\\.txt\"\n",
    "\n",
    "corpus0 = PlaintextCorpusReader(\"\", files)\n",
    "corpus  = nltk.Text(corpus0.words())"
   ]
  },
  {
   "cell_type": "code",
   "execution_count": null,
   "metadata": {},
   "outputs": [],
   "source": [
    "f = open('myfile.txt','rU') # Opening a file with the mode 'U' or 'rU' will open a file for reading in universal newline mode. \n",
    "#All three line ending conventions will be translated to a \"\\n\"\n",
    "raw = f.read()\n",
    "tokens = nltk.word_tokenize(raw)\n",
    "text = nltk.Text(tokens)\n",
    "text"
   ]
  },
  {
   "cell_type": "markdown",
   "metadata": {},
   "source": [
    "# Some useful functions"
   ]
  },
  {
   "cell_type": "code",
   "execution_count": 7,
   "metadata": {},
   "outputs": [
    {
     "name": "stdout",
     "output_type": "stream",
     "text": [
      "Displaying 2 of 2 matches:\n",
      " a noun ( the book on the table ) or verb ( to book a flight ) ; set can be a \n",
      "ook a flight ) ; set can be a noun , verb or adjective ; and out can be any of\n"
     ]
    }
   ],
   "source": [
    "tkn.concordance('verb') # concordance() is a method of the Text class of NLTK. \n",
    "# It finds words and displays a context window. Word matching is not case-sensitive.\n",
    "# concordance() is defined as follows: concordance(self, word, width=79, lines=25).\n",
    "# Note default values for optional params."
   ]
  },
  {
   "cell_type": "code",
   "execution_count": 8,
   "metadata": {},
   "outputs": [
    {
     "name": "stdout",
     "output_type": "stream",
     "text": [
      "\n",
      "3\n",
      "11\n",
      "\n",
      "None\n"
     ]
    }
   ],
   "source": [
    "tkn.collocations() # def collocations(self, num=20, window_size=2). num is the max no. of collocations to print.\n",
    "print(tkn.count('is'))\n",
    "print(tkn.index('determine'))\n",
    "\n",
    "# similar(self, word, num=20). Distributional similarity: \n",
    "#find other words which appear in the same contexts as the specified word; list most similar words first.\n",
    "print(tkn.similar('guy'))\n",
    "\n"
   ]
  },
  {
   "cell_type": "code",
   "execution_count": null,
   "metadata": {},
   "outputs": [],
   "source": []
  },
  {
   "cell_type": "code",
   "execution_count": null,
   "metadata": {},
   "outputs": [],
   "source": []
  },
  {
   "cell_type": "code",
   "execution_count": null,
   "metadata": {},
   "outputs": [],
   "source": []
  },
  {
   "cell_type": "code",
   "execution_count": null,
   "metadata": {},
   "outputs": [],
   "source": []
  }
 ],
 "metadata": {
  "kernelspec": {
   "display_name": "Python 3",
   "language": "python",
   "name": "python3"
  },
  "language_info": {
   "codemirror_mode": {
    "name": "ipython",
    "version": 3
   },
   "file_extension": ".py",
   "mimetype": "text/x-python",
   "name": "python",
   "nbconvert_exporter": "python",
   "pygments_lexer": "ipython3",
   "version": "3.7.3"
  }
 },
 "nbformat": 4,
 "nbformat_minor": 2
}
