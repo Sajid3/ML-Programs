{
 "cells": [
  {
   "cell_type": "markdown",
   "metadata": {},
   "source": [
    "# Regex"
   ]
  },
  {
   "cell_type": "code",
   "execution_count": 1,
   "metadata": {},
   "outputs": [
    {
     "name": "stdout",
     "output_type": "stream",
     "text": [
      " 1 :  <re.Match object; span=(0, 48), match='Hello Github  Github you are still alive in 2019'>\n",
      " 2 :  <re.Match object; span=(0, 48), match='Hello Github  Github you are still alive in 2019'>\n",
      " 3 : None\n",
      " 4 :  <re.Match object; span=(0, 5), match='Hello'>\n",
      " 5:  <re.Match object; span=(0, 2), match='He'>\n",
      " 5:  <re.Match object; span=(21, 23), match='yo'>\n"
     ]
    }
   ],
   "source": [
    "import re\n",
    "\n",
    "sen = \"Hello Github  Github you are still alive in 2019\"\n",
    "sen1 = \"\"\n",
    "\n",
    "#.*?\n",
    "print(\" 1 : \",re.match(r\".*\",sen))\n",
    "print(\" 2 : \",re.match(r\".+\",sen))\n",
    "print(\" 3 :\",re.match(r\".+\",sen1))\n",
    "print(\" 4 : \",re.match(r\"[a-zA-Z]+\",sen))\n",
    "print(\" 5: \",re.match(r\"He?\",sen))\n",
    "print(\" 5: \",re.search(r\"yo?\",sen))"
   ]
  },
  {
   "cell_type": "code",
   "execution_count": 2,
   "metadata": {},
   "outputs": [
    {
     "name": "stdout",
     "output_type": "stream",
     "text": [
      "match\n",
      "match\n"
     ]
    }
   ],
   "source": [
    "#^ start with\n",
    "if re.match(r\"^Hello\",sen):\n",
    "    print(\"match\")\n",
    "else:\n",
    "    print(\"Not \")\n",
    "    \n",
    "    \n",
    "#$ ends with\n",
    "if re.search(r\"2019$\",sen):\n",
    "    print(\"match\")\n",
    "else:\n",
    "    print(\"Not Possible\")"
   ]
  },
  {
   "cell_type": "code",
   "execution_count": 3,
   "metadata": {},
   "outputs": [
    {
     "name": "stdout",
     "output_type": "stream",
     "text": [
      " 1 :  Hello Facebook  Facebook you are still alive in 2019\n",
      " 2 :  00000 Github  Github you are still alive in 2019\n"
     ]
    }
   ],
   "source": [
    "#substitute\n",
    "print(\" 1 : \",re.sub(r\"Github\",\"Facebook\",sen))\n",
    "\n",
    "#replace word character as 0  and check flag case insensitive\n",
    "print(\" 2 : \",re.sub(r\"[a-z]\",\"0\",sen,5,flags=re.I))"
   ]
  },
  {
   "cell_type": "code",
   "execution_count": 6,
   "metadata": {
    "scrolled": true
   },
   "outputs": [
    {
     "name": "stdout",
     "output_type": "stream",
     "text": [
      "['This is love of Github', 'This love contains Poison', 'Every geek is on github since bc', 'Every one should be Proud of _']\n"
     ]
    }
   ],
   "source": [
    "X = [\"This is a love of Github\",\"This love contains Poison 202\" ,\n",
    "     \"Every geek is on github since 200bc\",\"Every one should be Proud of !@#%^&*()_+ ~\"]\n",
    "\n",
    "for i in range(len(X)):\n",
    "    X[i] = re.sub(r\"\\W\",\" \",X[i])\n",
    "    X[i] = re.sub(r\"\\d\",\" \",X[i])\n",
    "    X[i] = re.sub(r\"\\s+[a-z]\\s+\",\" \",X[i],flags=re.I)\n",
    "    X[i] = re.sub(r\"\\s+\",\" \",X[i])\n",
    "    X[i] = re.sub(r\"^\\s\",\"\",X[i])\n",
    "    X[i] = re.sub(r\"\\s$\",\"\",X[i])\n",
    "    \n",
    "print(X)"
   ]
  },
  {
   "cell_type": "code",
   "execution_count": null,
   "metadata": {},
   "outputs": [],
   "source": []
  },
  {
   "cell_type": "code",
   "execution_count": null,
   "metadata": {},
   "outputs": [],
   "source": []
  },
  {
   "cell_type": "code",
   "execution_count": null,
   "metadata": {},
   "outputs": [],
   "source": []
  },
  {
   "cell_type": "code",
   "execution_count": null,
   "metadata": {},
   "outputs": [],
   "source": []
  }
 ],
 "metadata": {
  "kernelspec": {
   "display_name": "Python 3",
   "language": "python",
   "name": "python3"
  },
  "language_info": {
   "codemirror_mode": {
    "name": "ipython",
    "version": 3
   },
   "file_extension": ".py",
   "mimetype": "text/x-python",
   "name": "python",
   "nbconvert_exporter": "python",
   "pygments_lexer": "ipython3",
   "version": "3.7.3"
  }
 },
 "nbformat": 4,
 "nbformat_minor": 2
}
